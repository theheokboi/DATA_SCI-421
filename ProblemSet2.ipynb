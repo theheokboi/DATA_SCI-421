{
 "cells": [
  {
   "cell_type": "code",
   "execution_count": 2,
   "id": "318c0eeb",
   "metadata": {},
   "outputs": [],
   "source": [
    "import numpy as np\n",
    "import matplotlib.pyplot as plt"
   ]
  },
  {
   "cell_type": "code",
   "execution_count": 3,
   "id": "1c2ee946",
   "metadata": {},
   "outputs": [],
   "source": [
    "%matplotlib inline"
   ]
  },
  {
   "cell_type": "markdown",
   "id": "903a6a1f",
   "metadata": {},
   "source": [
    "# Problem Set 2\n",
    "\n",
    "### PHYS 441\n",
    "\n",
    "***\n",
    "\n",
    "Adam A Miller  \n",
    "02 October 2023  \n",
    "version 0.2"
   ]
  },
  {
   "cell_type": "markdown",
   "id": "77536135",
   "metadata": {},
   "source": [
    "Problem sets for PHYS 441/DATA SCI 421 are due 1 week after they are assigned at 11:59 pm. \n",
    "\n",
    "Every student is responsible for submitting their own *individual* solutions. Solutions must be either an executable jupyter notebook or Adobe PDF file submitted via Canvas. You must **show all your work** (if you submit a pdf, be sure the pdf does not cut off text or lines of code). *Submissions that only include answers will have points deducted.*\n",
    "\n",
    "If the problem set calls for an integral, please calculate the integral by hand (in general any problem with integrals will not require the use of mathematica or similar tools)."
   ]
  },
  {
   "cell_type": "markdown",
   "id": "1b99b503",
   "metadata": {},
   "source": [
    "If you wish to \"write mathematics\" in a Jupyter notebook, this can be done using LaTeX formatting.\n",
    "\n",
    "LaTeX is great at typesetting mathematics. Let $X_1, X_2, \\ldots, X_n$ be a sequence of independent and identically distributed random variables with $\\text{E}[X_i] = \\mu$ and $\\text{Var}[X_i] = \\sigma^2 < \\infty$, and let\n",
    "\n",
    "$$S_n = \\frac{X_1 + X_2 + \\cdots + X_n}{n}\n",
    "      = \\frac{1}{n}\\sum_{i}^{n} X_i$$\n",
    "      \n",
    "denote their mean. Then as $n$ approaches infinity, the random variables $\\sqrt{n}(S_n - \\mu)$ converge in distribution to a normal $\\mathcal{N}(0, \\sigma^2)$.\n",
    "\n",
    "You can find a [summary of all the LaTeX math symbols](https://www.overleaf.com/learn/latex/List_of_Greek_letters_and_math_symbols) from Overleaf. "
   ]
  },
  {
   "cell_type": "markdown",
   "id": "f343cef3",
   "metadata": {},
   "source": [
    "## Problem 1) 12 points\n",
    "\n",
    "Suppose the probability function for a random variable $X$ is described by\n",
    "\n",
    "$$f(x) = \\begin{cases} cx^3 & \\text{0 $\\leq$ x $\\leq$ 4} \\\\\n",
    " 0 & \\text{otherwise} \\end{cases}$$\n",
    " \n",
    "**Problem 1a**\n",
    "What is the value of $c$?"
   ]
  },
  {
   "cell_type": "markdown",
   "id": "e4f2db0c",
   "metadata": {},
   "source": [
    "\n",
    "The p.d.f. $f(x)$ is normalized such that the total probability is one, i.e.$\\int_{-\\infty}^{\\infty} f(x) dx = 1$. Hence \n",
    "\n",
    "\\begin{align}\n",
    "\\int_{-\\infty}^{\\infty} f(x) dx &= \\\\ \n",
    "\\int_{0}^{4} cx^{3} dx &= \\\\ \n",
    "c \\int_{0}^{4} x^{3} dx &= \\\\\n",
    "c \\cdot \\frac{1}{4}x^{4} \\Big|_0^4 &= 1 \n",
    "\\end{align}\n",
    "\n",
    "$\\Rightarrow$\n",
    "\n",
    "\\begin{align}\n",
    "c \\cdot \\frac{1}{4}(4^4-0^4) &= \\\\ \n",
    "c \\cdot \\frac{1}{4} \\cdot 256 &= \\\\ \n",
    "c \\cdot 64 = 1 \n",
    "\\end{align}\n",
    "\n",
    "$\\Rightarrow$\n",
    "\n",
    "\\begin{align}\n",
    "c = \\frac{1}{64}\n",
    "\\end{align}"
   ]
  },
  {
   "cell_type": "markdown",
   "id": "66adbf76",
   "metadata": {},
   "source": [
    "**Problem 1b**\n",
    "\n",
    "What is the cumulative distribution function $F(x)$?\n",
    "\n",
    "\\begin{align}\n",
    "F(x) = \\int_{-\\infty}^{x} f(t) dt\n",
    "\\end{align}\n",
    "\n",
    "Hence, \n",
    "\n",
    "\\begin{align}\n",
    "F(x) = \n",
    "    \\begin{cases} \n",
    "        1                   & \\text{x} > 1 \\\\ \n",
    "        \\frac{1}{256}x^4    & \\text{0 $\\leq$ x $\\leq$ 4} \\\\\n",
    "        0                   & x < 0\n",
    "    \\end{cases}\n",
    "\\end{align}\n"
   ]
  },
  {
   "cell_type": "markdown",
   "id": "f4ce1d63",
   "metadata": {},
   "source": [
    "**Problem 1c**\n",
    "\n",
    "Calculate the mean for the random variable $X$."
   ]
  },
  {
   "cell_type": "markdown",
   "id": "089a41dd",
   "metadata": {},
   "source": [
    "\n",
    "\\begin{align}\n",
    "E[X]    &= \\int_{-\\infty}^{\\infty} x \\cdot f(x) dx \\\\ \n",
    "        &= \\int_{0}^{4} x \\cdot \\frac{1}{64}x^3 dx \\\\ \n",
    "        &= \\frac{1}{64} \\int_{0}^{4} x^{4} dx \\\\ \n",
    "        &= \\frac{1}{64} \\cdot \\frac{1}{5} x^{5} \\Big|_0^4 \\\\ \n",
    "        &= \\frac{1}{64 \\cdot 5} \\cdot (4^5 - 0^5) \\\\ \n",
    "        &= \\frac{1024 - 0}{64 \\cdot 5} \\\\\n",
    "        &= 3.2 \n",
    "\\end{align}"
   ]
  },
  {
   "cell_type": "markdown",
   "id": "724a3113-3327-4226-be68-4eada35446c1",
   "metadata": {},
   "source": [
    "**Problem 1d**\n",
    "\n",
    "Calculate the variance for $X$. "
   ]
  },
  {
   "cell_type": "markdown",
   "id": "62d7aac1-1962-4bdd-852f-de5d6b923d87",
   "metadata": {},
   "source": [
    "\\begin{align}\n",
    "\\text{Var}(X)   &= \\int_{-\\infty}^{\\infty} (x- \\mu)^2 \\cdot f(x) dx \\\\\n",
    "                &= \\int_{0}^{4} (x- \\frac{16}{5})^2 \\cdot \\frac{1}{64}x^3 dx \\\\ \n",
    "                &= \\frac{1}{64} \\int_{0}^{4} (x- \\frac{16}{5})^2 \\cdot x^3 dx \\\\ \n",
    "                &= \\frac{1}{64} \\int_{0}^{4} (x^2 - \\frac{32}{5}x + \\frac{256}{25}) \\cdot x^3 dx \\\\\n",
    "                &= \\frac{1}{64} \\cdot (\\frac{1}{6}x^6\\Big|_0^4 + \\frac{32}{25}x^5\\Big|_0^4 + \\frac{256}{100}x^4\\Big|_0^4) \\\\ \n",
    "                &= \\frac{1}{64} \\cdot (\\frac{4096}{6} + \\frac{32 \\cdot 1024}{25} + \\frac{256 \\cdot 256}{100}) \\approx 41.38 \n",
    "\\end{align} "
   ]
  },
  {
   "cell_type": "markdown",
   "id": "3c74e2b5",
   "metadata": {},
   "source": [
    "## Problem 2) 10 points\n",
    "\n",
    "Let $X$ and $Y$ be independent variables with variances $\\sigma_x^2$ and $\\sigma_y^2$. \n",
    "\n",
    "Let $Z = X + Y$. \n",
    "\n",
    "**Problem 2a**\n",
    "\n",
    "What is the variance $\\sigma_z^2$?"
   ]
  },
  {
   "cell_type": "markdown",
   "id": "410a8d56",
   "metadata": {},
   "source": [
    "\\begin{align}\n",
    "\\text{Var}[Z]   &=  \\text{Var}[X+Y] \\\\ \n",
    "                &= E[(X+Y)^2] - (E[X+Y])^2 \\\\ \n",
    "                &= (E[X^2] + E[Y^2] + 2E[XY]) - (E[X] + E[Y])^2 \\\\ \n",
    "                &= (E[X^2] + E[Y^2] + 2E[XY]) - [(E[X])^2 + (E[Y])^2 + 2E[X]E[Y]] \\\\ \n",
    "                &= [E[X^2] - (E[X])^2] + [E[Y^2] - (E[Y])^2] + (2E[XY] - 2E[X]E[Y])\n",
    "\\end{align}\n",
    "\n",
    "Since $X$ and $Y$ are independent, $E[XY] = E[X]E[Y]$, so \n",
    "\n",
    "\\begin{align}\n",
    "2E[XY] - 2E[X]E[Y]  &= 2E[X]E[Y] - 2E[X]E[Y] \\\\\n",
    "                    &= 0\n",
    "\\end{align}\n",
    "\n",
    "Hence, \n",
    "\\begin{align}\n",
    "\\text{Var}[Z]   &= [E[X^2] - (E[X])^2] + [E[Y^2] - (E[Y])^2] + 0 \\\\ \n",
    "                &= [E[X^2] - (E[X])^2] + [E[Y^2] - (E[Y])^2] \\\\ \n",
    "                &= \\text{Var}[X] + \\text{Var}[Y] \\\\\n",
    "                &= \\sigma_x^2 + \\sigma_y^2\n",
    "\\end{align}\n",
    "\n"
   ]
  },
  {
   "cell_type": "markdown",
   "id": "cbca4887",
   "metadata": {},
   "source": [
    "**Problem 2b**\n",
    "\n",
    "What is the covariance $\\sigma^2_{zx}$?"
   ]
  },
  {
   "cell_type": "markdown",
   "id": "45aa807f",
   "metadata": {},
   "source": [
    "\\begin{align}\n",
    "\\text{Cov}(X, Z)    &= \\text{Cov}(X, X+Y) \\\\ \n",
    "                    &= E[(X-E[X]) ((X+Y)-E[X+Y])] \\\\ \n",
    "                    &= E[(X-E[X]) (X+Y-E[X]-E[Y])] \\\\ \n",
    "                    &= E[(X-E[X]) (X-E[X] + Y-E[Y])] \\\\ \n",
    "                    &= E[(X-E[X])(X-E[X]) + (X-E[X])(Y-E[Y])] \\\\ \n",
    "                    &= E[(X-E[X])^2] + E[(X-E[X])(Y-E[Y])] \\\\\n",
    "                    &= \\text{Var}[X] + \\text{Cov}(X, Y) \n",
    "\\end{align}\n",
    "\n",
    "Since $X$ and $Y$ are independent, $\\text{Cov}(X, Y) = 0$. Hence,\n",
    "\n",
    "\\begin{align}\n",
    "\\text{Cov}(X, Z)    &= \\text{Var}[X] + \\text{Cov}(X, Y) \\\\ \n",
    "                    &= \\text{Var}[X] + 0 \\\\\n",
    "                    &= \\sigma_x^2 \n",
    "\\end{align}\n"
   ]
  },
  {
   "cell_type": "markdown",
   "id": "ffbd1ac8",
   "metadata": {},
   "source": [
    "## Problem 3) 14 points\n",
    "\n",
    "Consider the following array of data:\n",
    "\n",
    "[12.849, 9.185, 6.973, 0.727, 11.376, 0.881, 18.355, 13.544, 16.946, 16.907, 9.959, 4.328, 5.435, 33.384, 4.128, 5.882, 3.58,  4.405, 5.438, 9.55, 5.508, 5.183, 3.988, 8.082, 1.927]\n",
    "\n",
    "(you may conveniently execute the cell below to load these data into an array called `dat`"
   ]
  },
  {
   "cell_type": "code",
   "execution_count": 4,
   "id": "4dfbded5",
   "metadata": {},
   "outputs": [
    {
     "name": "stdout",
     "output_type": "stream",
     "text": [
      "25\n"
     ]
    }
   ],
   "source": [
    "dat = np.array([12.849, 9.185, 6.973, 0.727, 11.376, 0.881, 18.355, 13.544, 16.946, 16.907, 9.959, 4.328, 5.435, 33.384, 4.128, 5.882, 3.58,  4.405, 5.438, 9.55, 5.508, 5.183, 3.988, 8.082, 1.927])\n",
    "print(len(dat))"
   ]
  },
  {
   "cell_type": "markdown",
   "id": "8370fbbf",
   "metadata": {},
   "source": [
    "**Problem 3a**\n",
    "\n",
    "Estimate the p.d.f. for these data by displaying them as a histogram.\n",
    "\n",
    "*Hint – use the default settings for whatever plotting program you are using*"
   ]
  },
  {
   "cell_type": "code",
   "execution_count": 5,
   "id": "1ac09029",
   "metadata": {},
   "outputs": [
    {
     "data": {
      "image/png": "[encoded data removed]",
      "text/plain": [
       "<Figure size 640x480 with 1 Axes>"
      ]
     },
     "metadata": {},
     "output_type": "display_data"
    }
   ],
   "source": [
    "plt.hist(dat, edgecolor='black')  # You can adjust the number of bins as needed\n",
    "\n",
    "plt.xlabel('X')\n",
    "plt.ylabel('Count')\n",
    "plt.title('Histogram')\n",
    "\n",
    "plt.show()"
   ]
  },
  {
   "cell_type": "markdown",
   "id": "80466742",
   "metadata": {},
   "source": [
    "**Problem 3b**\n",
    "\n",
    "Using the same data plot two new histograms, but adjust the plotting parameters – in the first set the total number of bins equal to 6, in the second center the bars on the right edge of the bins. \n",
    "\n",
    "*Hint* – the latter can be done by setting `align = right`."
   ]
  },
  {
   "cell_type": "code",
   "execution_count": 6,
   "id": "44450393",
   "metadata": {},
   "outputs": [
    {
     "data": {
      "image/png": "[encoded data removed]",
      "text/plain": [
       "<Figure size 1200x500 with 2 Axes>"
      ]
     },
     "metadata": {},
     "output_type": "display_data"
    }
   ],
   "source": [
    "fig, (ax1, ax2) = plt.subplots(1, 2, figsize=(12, 5), sharey=True)  \n",
    "\n",
    "ax1.hist(dat, bins=6, edgecolor='black')\n",
    "ax1.set_xlabel('X')\n",
    "ax1.set_ylabel('Count')\n",
    "ax1.set_title('Histogram 1')\n",
    "\n",
    "ax2.hist(dat, edgecolor='black', color='green', align='right')\n",
    "ax2.set_xlabel('Value')\n",
    "ax2.set_ylabel('Count')\n",
    "ax2.set_title('Histogram 2')\n",
    "\n",
    "plt.tight_layout()\n",
    "plt.show()"
   ]
  },
  {
   "cell_type": "markdown",
   "id": "b9dd92d8",
   "metadata": {},
   "source": [
    "**Problem 3c**\n",
    "\n",
    "You now have 3 different estimates for $f(x)$, but they are all very different. Does this make sense? Which of the three estimates is best? "
   ]
  },
  {
   "cell_type": "markdown",
   "id": "407e5ef4",
   "metadata": {},
   "source": [
    "Not really, since the $f(x)$ is being estimated by the frequency of numbers in a given range. The accuracy is dependent on the number of bins used to plot the histogram. \n",
    "The one with the most bins is the best estimate. \n"
   ]
  },
  {
   "cell_type": "markdown",
   "id": "9d14675f",
   "metadata": {},
   "source": [
    "Here we have demonstrated one of the major challenges with using histograms to try and estimate p.d.f.s: production of the histogram requires user specified input which affects the output. Given that reasonable people may disagree on what parameters are reasonable, perhaps histograms are not the best tool for analysis (i.e., do not fit models to histograms).\n",
    "\n",
    "For example, do you think it makes sense that $P(X = 25) = 0$? Each of the above histograms shows this is the case, but the true probability is likely greater than 0."
   ]
  },
  {
   "cell_type": "markdown",
   "id": "742f17a1",
   "metadata": {},
   "source": [
    "**Problem 3d**\n",
    "\n",
    "Replot the histogram with a variable bin width such that each bin contains exactly 5 sources. Note – it is important that the histogram be normalized for this problem if you previously were not doing that. \n",
    "\n",
    "Is this representation better?"
   ]
  },
  {
   "cell_type": "code",
   "execution_count": 7,
   "id": "78400f57",
   "metadata": {},
   "outputs": [
    {
     "name": "stdout",
     "output_type": "stream",
     "text": [
      "[0.727, 0.881, 1.927, 3.58, 3.988, 4.128, 4.328, 4.405, 5.183, 5.435, 5.438, 5.508, 5.882, 6.973, 8.082, 9.185, 9.55, 9.959, 11.376, 12.849, 13.544, 16.907, 16.946, 18.355, 33.384]\n",
      "[0.727, 0.727, 4.128, 5.438, 9.185, 13.544, 33.384]\n"
     ]
    },
    {
     "data": {
      "image/png": "[encoded data removed]",
      "text/plain": [
       "<Figure size 640x480 with 1 Axes>"
      ]
     },
     "metadata": {},
     "output_type": "display_data"
    }
   ],
   "source": [
    "import math \n",
    "\n",
    "bin_edges = [] \n",
    "s_dat = sorted(dat)\n",
    "bin_edges.append(s_dat[0])\n",
    "for i in range(0, len(dat)):\n",
    "    if i%5 == 0:\n",
    "        bin_edges.append(s_dat[i])\n",
    "bin_edges.append(s_dat[-1])\n",
    "print(s_dat)\n",
    "print(bin_edges) \n",
    "\n",
    "plt.hist(dat, bins=bin_edges, edgecolor='black')\n",
    "\n",
    "plt.xlabel('X')\n",
    "plt.ylabel('Normalized Frequency')\n",
    "plt.title('Histogram')\n",
    "\n",
    "plt.show()"
   ]
  },
  {
   "cell_type": "markdown",
   "id": "8431190b",
   "metadata": {},
   "source": [
    "I think this plot is a better representation of the data distribution. The high density around 5 corresponds and low density from 14-33 especially clearly corresponds to the characteristics of the original data distribution. \n"
   ]
  },
  {
   "cell_type": "markdown",
   "id": "fe5e1aeb",
   "metadata": {},
   "source": [
    "## Problem 4) 18 points\n",
    "\n",
    "Execute the cell below to load samples from the joint p.d.f. $f(x, y)$ into an array called `z`."
   ]
  },
  {
   "cell_type": "code",
   "execution_count": 8,
   "id": "bb51562d",
   "metadata": {},
   "outputs": [
    {
     "name": "stdout",
     "output_type": "stream",
     "text": [
      "250\n"
     ]
    }
   ],
   "source": [
    "z = np.array([[2.4630e+00, 4.1940e+00], [-1.2260e+00, 3.2910e+00], [-8.1600e-01, 4.3470e+00], [3.1040e+00, 4.9180e+00], [3.3880e+00, 4.7000e+00], [1.3470e+00, 3.7620e+00], [3.9970e+00, 2.0420e+00], [1.5140e+00, 1.7440e+00], [1.0730e+00, 1.4790e+00], [2.2650e+00, 2.2700e+00], [1.4230e+00, 2.4090e+00], [1.9440e+00, 1.6090e+00], [1.6800e+00, 5.0000e-03], [1.3210e+00, 6.0590e+00], [5.8850e+00, 2.3880e+00], [-5.3300e-01, 1.0820e+00], [4.3760e+00, 1.7210e+00], [9.1200e-01, 7.7560e+00], [2.1730e+00, 4.2700e+00], [-8.6400e-01, 2.0420e+00], [1.1080e+00, 5.4400e+00], [2.2010e+00, 3.6520e+00], [4.1730e+00, 6.9550e+00], [1.2990e+00, 4.7300e-01], [4.5800e-01, 5.5530e+00], [2.2000e+00, 2.0840e+00], [-1.8100e-01, 3.7700e-01], [1.8990e+00, 8.5000e-01], [3.1210e+00, 1.5800e+00], [2.8250e+00, 3.1500e+00], [3.0160e+00, 2.6770e+00], [6.1100e-01, 2.9480e+00], [3.7020e+00, 5.4580e+00], [2.4650e+00, 8.0780e+00], [-1.7200e-01, 1.9700e+00], [-9.3800e-01, 5.3640e+00], [9.1700e-01, 4.2460e+00], [2.0840e+00, 2.8930e+00], [1.3280e+00, 1.7470e+00], [1.6880e+00, 2.0630e+00], [-2.6200e-01, 4.3720e+00], [1.2300e+00, 2.5860e+00], [8.9900e-01, 5.7210e+00], [3.3200e+00, 6.5390e+00], [1.5000e+00, 6.7490e+00], [2.7380e+00, 4.7300e+00], [1.2020e+00, 2.9100e-01], [5.3100e-01, 2.1660e+00], [-2.1700e-01, 1.5490e+00], [2.3260e+00, 1.8980e+00], [-3.9000e-01, 1.5480e+00], [1.7920e+00, 5.3970e+00], [1.6840e+00, 3.1040e+00], [2.6750e+00, 1.6870e+00], [1.8850e+00, 1.8140e+00], [-6.9000e-01, 7.7000e-02], [4.5300e+00, 1.7850e+00], [4.7290e+00, 3.0530e+00], [2.7600e+00, 3.9260e+00], [1.7990e+00, 1.7040e+00], [4.1630e+00, 6.7770e+00], [1.1670e+00, 1.6900e+00], [1.6780e+00, 6.0740e+00], [1.0100e+00, 5.2150e+00], [4.2950e+00, 4.1230e+00], [2.5810e+00, 4.8170e+00], [1.9240e+00, 3.3280e+00], [3.6240e+00, 2.7350e+00], [2.9010e+00, 5.4980e+00], [9.1200e-01, 2.8800e-01], [2.1580e+00, 3.6530e+00], [2.5240e+00, 1.3600e-01], [1.0620e+00, 9.0140e+00], [4.2600e+00, 2.8480e+00], [1.3140e+00, 2.1440e+00], [2.8340e+00, 3.2750e+00], [3.2360e+00, 1.9060e+00], [2.3510e+00, 1.3650e+00], [1.8880e+00, 3.8510e+00], [2.1790e+00, 3.8550e+00], [1.7500e+00, 6.0470e+00], [6.8000e-02, 3.1590e+00], [1.3380e+00, 5.3700e-01], [3.7300e-01, 3.1400e-01], [9.3000e-01, 1.3400e-01], [3.3400e+00, 3.0910e+00], [1.1560e+00, 1.2890e+00], [4.1630e+00, 4.6790e+00], [4.2600e-01, 6.3940e+00], [2.6310e+00, 1.7540e+00], [2.6640e+00, 5.0410e+00], [2.4110e+00, 3.5480e+00], [1.9990e+00, 1.2610e+00], [1.7680e+00, 4.8720e+00], [-1.5900e+00, 6.1290e+00], [4.2570e+00, 1.9640e+00], [4.2530e+00, 4.6850e+00], [4.0700e-01, 3.5400e+00], [3.9570e+00, 1.5860e+00], [1.4400e-01, 9.2000e-01], [7.6100e-01, 7.2300e-01], [2.6790e+00, 1.9560e+00], [4.1300e+00, 8.5300e-01], [1.5380e+00, 4.5290e+00], [-3.6200e-01, 1.0630e+00], [4.7810e+00, 2.9150e+00], [5.3300e-01, 2.8280e+00], [1.2730e+00, 2.9690e+00], [-8.8300e-01, 1.3340e+00], [4.0450e+00, 2.6110e+00], [3.7260e+00, 5.5660e+00], [2.7230e+00, 3.3920e+00], [2.2310e+00, 5.2760e+00], [1.5430e+00, 3.7160e+00], [1.0630e+00, 5.7090e+00], [3.3990e+00, 4.3810e+00], [3.2450e+00, 4.7550e+00], [1.1010e+00, 2.0880e+00], [1.3790e+00, 2.1710e+00], [1.0730e+00, 5.9400e-01], [5.2100e-01, 1.7760e+00], [1.0800e+00, 3.9720e+00], [4.1340e+00, 3.3150e+00], [2.5440e+00, 6.7890e+00], [2.6720e+00, 5.2650e+00], [5.0090e+00, 8.0710e+00], [2.1410e+00, 5.5590e+00], [2.7160e+00, 2.3790e+00], [1.6790e+00, 3.0100e+00], [5.0200e-01, 4.8190e+00], [3.1000e-02, 1.2520e+00], [1.5720e+00, 4.6100e-01], [1.4960e+00, 1.1180e+00], [3.4720e+00, 1.7670e+00], [9.3600e-01, 4.0700e+00], [3.8240e+00, 3.5080e+00], [2.1420e+00, 4.9250e+00], [3.4310e+00, 4.2400e+00], [-3.3800e-01, 5.8000e-01], [3.2140e+00, 1.5130e+00], [2.6390e+00, 6.3080e+00], [3.8520e+00, 6.2160e+00], [9.6200e-01, 3.0010e+00], [1.9440e+00, 1.5680e+00], [3.6020e+00, 6.0220e+00], [-7.2000e-02, 3.2400e-01], [2.5340e+00, 4.8140e+00], [2.6870e+00, 7.8000e-01], [3.5360e+00, 5.9460e+00], [3.9180e+00, 3.0260e+00], [1.0880e+00, 2.2730e+00], [4.3920e+00, 6.1700e-01], [2.5950e+00, 7.8030e+00], [2.8350e+00, 4.2830e+00], [3.9680e+00, 4.9200e+00], [2.1060e+00, 4.5850e+00], [4.6300e-01, 2.0670e+00], [1.1330e+00, 2.8020e+00], [1.8320e+00, 1.1690e+00], [5.7400e-01, 2.9950e+00], [2.4630e+00, 1.8440e+00], [8.5600e-01, 3.5800e+00], [2.6050e+00, 1.2480e+00], [2.5310e+00, 3.5170e+00], [3.0130e+00, 2.5390e+00], [5.5720e+00, 2.7910e+00], [9.1600e-01, 2.1120e+00], [2.4150e+00, 6.7470e+00], [2.4030e+00, 1.2150e+00], [1.9700e+00, 2.2240e+00], [2.4050e+00, 3.0290e+00], [3.6160e+00, 9.9700e-01], [2.0910e+00, 3.7380e+00], [9.7200e-01, 3.9920e+00], [-9.7000e-02, 3.0150e+00], [2.1050e+00, 5.0800e-01], [3.0820e+00, 3.1520e+00], [1.6680e+00, 1.5610e+00], [2.1670e+00, 1.4380e+00], [3.7200e+00, 4.5660e+00], [1.0750e+00, 4.4280e+00], [6.2800e-01, 3.6630e+00], [1.6780e+00, 1.3140e+00], [3.0490e+00, 3.0490e+00], [5.2600e-01, 5.0550e+00], [1.7150e+00, 9.6400e-01], [2.5710e+00, 3.0690e+00], [1.2510e+00, 1.1100e-01], [4.7890e+00, 4.0600e+00], [3.8510e+00, 1.1900e-01], [-1.0900e-01, 2.5920e+00], [8.8100e-01, 6.1240e+00], [2.6200e+00, 2.2700e-01], [2.3590e+00, 5.2540e+00], [-3.1300e-01, 1.6170e+00], [-1.2470e+00, 3.6130e+00], [2.9930e+00, 4.9100e-01], [3.8180e+00, 4.0990e+00], [4.8400e-01, 4.0530e+00], [-4.2600e-01, 4.3080e+00], [4.0270e+00, 4.2260e+00], [3.0610e+00, 5.0200e-01], [1.7170e+00, 3.0300e+00], [1.1340e+00, 1.4590e+00], [-1.9500e-01, 5.1530e+00], [8.0700e-01, 1.9590e+00], [2.8910e+00, 9.1300e-01], [1.9850e+00, 2.9400e+00], [1.1690e+00, 5.2320e+00], [2.2380e+00, 1.0243e+01], [2.4660e+00, 2.0100e-01], [7.2100e-01, 3.9380e+00], [2.8370e+00, 7.6700e-01], [2.6190e+00, 3.5240e+00], [1.3880e+00, 5.0060e+00], [2.3880e+00, 5.7760e+00], [9.2800e-01, 4.7520e+00], [2.6020e+00, 4.6140e+00], [2.5160e+00, 8.5460e+00], [3.3370e+00, 6.2980e+00], [2.8050e+00, 6.4690e+00], [-9.0200e-01, 4.5020e+00], [3.0980e+00, 4.0000e-03], [3.2200e+00, 3.8370e+00], [3.0380e+00, 2.3110e+00], [1.8470e+00, 2.2530e+00], [3.8750e+00, 5.5480e+00], [1.9740e+00, 2.0570e+00], [1.9040e+00, 3.5900e+00], [6.9900e-01, 2.9840e+00], [7.5100e-01, 4.4880e+00], [3.5030e+00, 6.6200e-01], [5.1120e+00, 6.7660e+00], [1.3910e+00, 3.9180e+00], [4.3860e+00, 4.4050e+00], [1.5050e+00, 3.3680e+00], [-7.8800e-01, 3.6800e-01], [4.9900e-01, 7.1190e+00], [1.4150e+00, 1.5970e+00], [3.0200e-01, 3.8040e+00], [2.9780e+00, 4.1820e+00], [1.1750e+00, 3.2880e+00], [-7.6100e-01, 2.5380e+00], [1.4640e+00, 4.4950e+00], [1.5480e+00, 3.5000e-02], [2.6310e+00, 4.0330e+00], [3.7820e+00, 4.1640e+00], [2.0910e+00, 1.7810e+00], [4.3000e-02, 3.8070e+00], [1.8360e+00, 5.4490e+00]])\n",
    "print(len(z))"
   ]
  },
  {
   "cell_type": "markdown",
   "id": "d6be949b",
   "metadata": {},
   "source": [
    "**Problem 4a**\n",
    "\n",
    "Plot a 2d histogram to get a sense of the joint p.d.f."
   ]
  },
  {
   "cell_type": "code",
   "execution_count": 9,
   "id": "837433df",
   "metadata": {},
   "outputs": [
    {
     "data": {
      "image/png": "[encoded data removed]",
      "text/plain": [
       "<Figure size 640x480 with 2 Axes>"
      ]
     },
     "metadata": {},
     "output_type": "display_data"
    }
   ],
   "source": [
    "plt.hist2d(z[:, 0], z[:, 1], cmap=plt.cm.jet)\n",
    "\n",
    "# Add labels and a colorbar\n",
    "plt.xlabel('X-axis')\n",
    "plt.ylabel('Y-axis')\n",
    "plt.colorbar(label='Counts')\n",
    "\n",
    "# Show the plot\n",
    "plt.show()"
   ]
  },
  {
   "cell_type": "markdown",
   "id": "3349d499",
   "metadata": {},
   "source": [
    "**Problem 4b**\n",
    "\n",
    "Plot the marginal distribution along the first axis (the one that is often generically called \"x\"), $f_x(x)$."
   ]
  },
  {
   "cell_type": "code",
   "execution_count": 10,
   "id": "98f42a3b",
   "metadata": {},
   "outputs": [
    {
     "data": {
      "image/png": "[encoded data removed]",
      "text/plain": [
       "<Figure size 640x480 with 1 Axes>"
      ]
     },
     "metadata": {},
     "output_type": "display_data"
    }
   ],
   "source": [
    "plt.hist(z[:, 0], edgecolor='black') \n",
    "\n",
    "plt.xlabel('X')\n",
    "plt.ylabel('Count')\n",
    "plt.title('Histogram')\n",
    "\n",
    "plt.show()"
   ]
  },
  {
   "cell_type": "markdown",
   "id": "c7da0675",
   "metadata": {},
   "source": [
    "**Problem 4c**\n",
    "\n",
    "Plot the marginal distribution along the second axis (the one that is often generically called \"y\"), $f_y(y)$."
   ]
  },
  {
   "cell_type": "code",
   "execution_count": 11,
   "id": "965c4950",
   "metadata": {},
   "outputs": [
    {
     "data": {
      "image/png": "[encoded data removed]",
      "text/plain": [
       "<Figure size 640x480 with 1 Axes>"
      ]
     },
     "metadata": {},
     "output_type": "display_data"
    }
   ],
   "source": [
    "plt.hist(z[:, 1], edgecolor='black') \n",
    "\n",
    "plt.xlabel('Y')\n",
    "plt.ylabel('Count')\n",
    "plt.title('Histogram')\n",
    "\n",
    "plt.show()"
   ]
  },
  {
   "cell_type": "markdown",
   "id": "e32af8f9",
   "metadata": {},
   "source": [
    "**Problem 4d**\n",
    "\n",
    "Which axis has more variance? Could you tell this from your plot of the joint distribution? "
   ]
  },
  {
   "cell_type": "markdown",
   "id": "c973be10",
   "metadata": {},
   "source": [
    "The X axis seems to have (slightly) more variance, although personally I cannot tell this from the joint histogram. \n"
   ]
  },
  {
   "cell_type": "markdown",
   "id": "628b109f",
   "metadata": {},
   "source": [
    "**Problem 4e**\n",
    "\n",
    "Plot the conditional $h(y|x)$, for $x$ given to be between 1 and 1.75. \n",
    "\n",
    "Does this distribution look different from $f_y(y)$? Which of these two has a higher median? Are $x$ and $y$ positively or negatively correlated? "
   ]
  },
  {
   "cell_type": "code",
   "execution_count": 12,
   "id": "d261a952",
   "metadata": {},
   "outputs": [
    {
     "data": {
      "image/png": "[encoded data removed]",
      "text/plain": [
       "<Figure size 640x480 with 1 Axes>"
      ]
     },
     "metadata": {},
     "output_type": "display_data"
    }
   ],
   "source": [
    "h = z[(1 < z[:, 0]) & (z[:, 0] < 1.75)] \n",
    "\n",
    "plt.hist(h[:, 1], edgecolor='black') \n",
    "plt.xlabel('Y')\n",
    "plt.ylabel('Count')\n",
    "plt.title('Histogram')\n",
    "\n",
    "plt.show()"
   ]
  },
  {
   "cell_type": "code",
   "execution_count": 13,
   "id": "273a23ba",
   "metadata": {},
   "outputs": [
    {
     "name": "stdout",
     "output_type": "stream",
     "text": [
      "8.071\n",
      "5.709\n"
     ]
    }
   ],
   "source": [
    "median_y = int(len(z[:, 1])/2) \n",
    "median_h = int(len(h[:, 1])/2) \n",
    "\n",
    "print(z[:, 1][median_y])\n",
    "print(h[:, 1][median_h])"
   ]
  },
  {
   "cell_type": "markdown",
   "id": "45492d50",
   "metadata": {},
   "source": [
    "The distribution looks slightly different than $f_y(y)$. In this case $f_y(y)$ has a higher median of 8.071. $x$ and $y$ are positively correlated. \n"
   ]
  },
  {
   "cell_type": "markdown",
   "id": "930d8ea3-ca5c-4e89-95b3-95a682efe88e",
   "metadata": {},
   "source": [
    "## Problem 5) 16 points"
   ]
  },
  {
   "cell_type": "markdown",
   "id": "b0da6651-8e44-430a-8956-ae450f72db2d",
   "metadata": {},
   "source": [
    "$X$ and $Y$ have the joint density function\n",
    "\n",
    "$$f(x,y) = \\begin{cases} 8xy & \\text{0 $\\leq x \\leq$ 1 and 0 $\\leq y \\leq$ x} \\\\\n",
    " 0 & \\text{otherwise} \\end{cases}$$\n",
    "\n",
    "Note the range for $y$."
   ]
  },
  {
   "cell_type": "markdown",
   "id": "c9a76209-98f6-4997-936f-d06d7213314a",
   "metadata": {},
   "source": [
    "**Problem 5a**\n",
    "\n",
    "Find the marginal density of $X$: $f_x(x)$"
   ]
  },
  {
   "cell_type": "markdown",
   "id": "10182764-ebec-4267-ba58-d18c011b63ac",
   "metadata": {},
   "source": [
    "\\begin{align} \n",
    "f_x(x)  &= \\int_{-\\infty}^{\\infty} f_{XY}(x, y) dy \\\\\n",
    "        &= \\int_{0}^{x} 8xy dy \\\\ \n",
    "        &= 8x  \\int_{0}^{x} y dy \\\\ \n",
    "        &= 8x \\cdot \\frac{y^{2}}{2} \\Big|^{x}_{0}  \\\\\n",
    "        &= 8x \\cdot (\\frac{x^2}{2} - 0) \\\\ \n",
    "        &= 4x^3 \n",
    "\\end{align}\n",
    "\n",
    "Hence,  $$ f_x(x) = \n",
    "                \\begin{cases}   4x^3  & 0 \\leq x \\leq 1 \\\\\n",
    "                                0 & \\text{otherwise} \n",
    "                \\end{cases}\n",
    "        $$"
   ]
  },
  {
   "cell_type": "markdown",
   "id": "5767cb26-8d98-4a4b-a94e-fc7b0ce8cf62",
   "metadata": {},
   "source": [
    "**Problem 5b**\n",
    "\n",
    "Find the marginal density of $Y$: $f_y(y)$"
   ]
  },
  {
   "cell_type": "markdown",
   "id": "b020fae3-3172-423e-8f84-7946c602ac5e",
   "metadata": {},
   "source": [
    "\\begin{align} \n",
    "f_y(y)  &= \\int_{-\\infty}^{\\infty} f_{XY}(x, y) dx \\\\ \n",
    "        &= \\int_{0}^{1} 8xy dx \\\\ \n",
    "        &= 8y \\int_{0}^{1} x dx \\\\ \n",
    "        &= 8y \\cdot \\frac{x^{2}}{2} \\Big|^{1}_{0}  \\\\\n",
    "        &= 8y \\cdot (\\frac{1}{2} - 0) \\\\ \n",
    "        &= 4y\n",
    "\\end{align}\n",
    "\n",
    "Hence,  $$ f_y(y) = \n",
    "                \\begin{cases}   4y  & 0 \\leq y \\leq 1 \\\\\n",
    "                                0 & \\text{otherwise} \n",
    "                \\end{cases}\n",
    "        $$"
   ]
  },
  {
   "cell_type": "markdown",
   "id": "ecd64503-db1a-4596-bcb1-f24fb3744a23",
   "metadata": {},
   "source": [
    "**Problem 5c**\n",
    "\n",
    "Find the conditional density of $X$: $g(x|y)$."
   ]
  },
  {
   "cell_type": "markdown",
   "id": "ddecab4e-8a52-4bed-ac65-fca187739420",
   "metadata": {},
   "source": [
    "\\begin{align} \n",
    "g(x|y)  &= \\frac{P(x, y)}{P(y)} & \\text{Probability of joint dist / Marginal dist of Y} \\\\ \n",
    "        &= \\frac{8xy}{4y} \\\\ \n",
    "        &= 2x \n",
    "\\end{align}\n",
    "\n",
    "Hence,  $$ g(x|y) = \n",
    "                \\begin{cases}   2x  & 0 \\leq x \\leq 1, 0 \\leq y \\leq 1 \\\\\n",
    "                                0 & \\text{otherwise} \n",
    "                \\end{cases}\n",
    "        $$"
   ]
  },
  {
   "cell_type": "markdown",
   "id": "12dc4598-7a19-4ec5-a371-88d37bfd6399",
   "metadata": {},
   "source": [
    "**Problem 5d**\n",
    "\n",
    "Find the condition density of $Y$: $h(y|x)$."
   ]
  },
  {
   "cell_type": "markdown",
   "id": "91059605-2a0f-4779-8a84-175fff72595e",
   "metadata": {},
   "source": [
    "\\begin{align} \n",
    "h(x|y)  &= \\frac{P(x, y)}{P(h)} & \\text{Probability of joint dist / Marginal dist of X} \\\\ \n",
    "        &= \\frac{8xy}{4x^3} \\\\ \n",
    "        &= \\frac{8y}{4x^2} \\\\ \n",
    "        &= \\frac{2y}{x^2}\n",
    "\\end{align}\n",
    "\n",
    "Hence,  $$ g(x|y) = \n",
    "                \\begin{cases}    \\frac{2y}{x^2}  & 0 \\leq x \\leq 1, 0 \\leq y \\leq 1 \\\\\n",
    "                                0 & \\text{otherwise} \n",
    "                \\end{cases}\n",
    "        $$\n"
   ]
  },
  {
   "cell_type": "markdown",
   "id": "84c0f02e-dc76-4cbd-8b7d-4ac6e58dddc4",
   "metadata": {},
   "source": [
    "**Problem 5e**\n",
    "\n",
    "Are the random variables $X$ and $Y$ independent?"
   ]
  },
  {
   "cell_type": "markdown",
   "id": "234aee02-c04c-4d30-8f83-d3b5a30eed97",
   "metadata": {},
   "source": [
    "If $X$ and $Y$ are independent, $P(X \\cap Y) = P(X) \\cdot P(Y)$. \n",
    "\n",
    "In this case, $P(X \\cap Y) = 8xy$ $\\neq$ $4x^3 \\cdot 4y$, hence $X$ and $Y$ are not independent. "
   ]
  },
  {
   "cell_type": "markdown",
   "id": "61bbe16e",
   "metadata": {},
   "source": []
  }
 ],
 "metadata": {
  "kernelspec": {
   "display_name": "Python 3 (ipykernel)",
   "language": "python",
   "name": "python3"
  },
  "language_info": {
   "codemirror_mode": {
    "name": "ipython",
    "version": 3
   },
   "file_extension": ".py",
   "mimetype": "text/x-python",
   "name": "python",
   "nbconvert_exporter": "python",
   "pygments_lexer": "ipython3",
   "version": "3.9.18"
  }
 },
 "nbformat": 4,
 "nbformat_minor": 5
}
