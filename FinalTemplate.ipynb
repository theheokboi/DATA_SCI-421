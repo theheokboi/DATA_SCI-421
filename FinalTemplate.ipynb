{
 "cells": [
  {
   "cell_type": "markdown",
   "id": "3eb0d829",
   "metadata": {},
   "source": [
    "# PHYS 441/DATA SCI 421 FINAL\n",
    "\n",
    "## Your Project Title\n",
    "\n",
    "---\n",
    "\n",
    "By YOUR NAME  \n",
    "06 December 2023"
   ]
  },
  {
   "cell_type": "markdown",
   "id": "26f31d75",
   "metadata": {},
   "source": [
    "### Instructions\n",
    "\n",
    "This template for the final project is written as a Jupyter Notebook, which allows for a nice mix of standard text as well as software and plotting. \n",
    "\n",
    "Text in a Jupyter notebook is written using Markdown. The formatting is fairly straightforward, with many tutorials online ([this one is fairly comprehensive](https://medium.com/analytics-vidhya/the-ultimate-markdown-guide-for-jupyter-notebook-d5e5abf728fd)). \n",
    "\n",
    "Follow this template when completing the final project."
   ]
  },
  {
   "cell_type": "markdown",
   "id": "b4f0f286",
   "metadata": {},
   "source": [
    "## Introduction\n",
    "\n",
    "*Write one to two paragraphs providing context for the project. What measurement/analysis is going to be attempted and why is this important in the field in question.*"
   ]
  },
  {
   "cell_type": "markdown",
   "id": "4df98f99",
   "metadata": {},
   "source": [
    "## Data\n",
    "\n",
    "*Introduce the data by describing the measurements, how they were collected, and how you managed to curate them for this project. In many cases it will also be appropriate to show a figure of the data. Label axes and provide units where appropriate, figures require a caption (which can be written in a markdown cell immediately following any plots.*"
   ]
  },
  {
   "cell_type": "markdown",
   "id": "9d8276d4",
   "metadata": {},
   "source": [
    "## Analysis/Results\n",
    "\n",
    "*This is the bulk of the project - use statistical methods to analyze the data. This will require text to explain what you are doing (e.g., if you define a likelihood for the data, then you should write about how you arrived at that likelihood and write it out). The text should appear in markdown cells. This section will also present the software that executes the analysis, as well as any corresponding plots. Figures should have a caption (in a markdown cell). You will need multiple cells to complete this section. Units and uncertainties are important to report throughout this section (we never discussed significant figures in class, but please adhere to this in your reporting).* "
   ]
  },
  {
   "cell_type": "code",
   "execution_count": null,
   "id": "659e0a79",
   "metadata": {},
   "outputs": [],
   "source": [
    "# Analysis 1"
   ]
  },
  {
   "cell_type": "markdown",
   "id": "3bc3d832",
   "metadata": {},
   "source": [
    "*Additional text example*"
   ]
  },
  {
   "cell_type": "code",
   "execution_count": null,
   "id": "f9d36b12",
   "metadata": {},
   "outputs": [],
   "source": [
    "# Analysis 2"
   ]
  },
  {
   "cell_type": "markdown",
   "id": "7430991a",
   "metadata": {},
   "source": [
    "## Conclusions\n",
    "\n",
    "*Write a few sentences summarizing the big take away from your analysis (e.g., I attempted to fit observations to measure the mass of an electron and I found $m_e = MMM.MMM \\pm 0.MMM\\,\\mathrm{MeV}$...)*"
   ]
  }
 ],
 "metadata": {
  "kernelspec": {
   "display_name": "Python 3 (ipykernel)",
   "language": "python",
   "name": "python3"
  },
  "language_info": {
   "codemirror_mode": {
    "name": "ipython",
    "version": 3
   },
   "file_extension": ".py",
   "mimetype": "text/x-python",
   "name": "python",
   "nbconvert_exporter": "python",
   "pygments_lexer": "ipython3",
   "version": "3.11.4"
  }
 },
 "nbformat": 4,
 "nbformat_minor": 5
}
