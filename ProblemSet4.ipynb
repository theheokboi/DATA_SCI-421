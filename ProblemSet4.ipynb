{
 "cells": [
  {
   "cell_type": "code",
   "execution_count": 3,
   "id": "17eca120",
   "metadata": {},
   "outputs": [],
   "source": [
    "import math \n",
    "import numpy as np\n",
    "import matplotlib.pyplot as plt"
   ]
  },
  {
   "cell_type": "code",
   "execution_count": 4,
   "id": "90f3caa8",
   "metadata": {},
   "outputs": [],
   "source": [
    "%matplotlib inline"
   ]
  },
  {
   "cell_type": "markdown",
   "id": "903a6a1f",
   "metadata": {},
   "source": [
    "# Problem Set 4\n",
    "\n",
    "### PHYS 441\n",
    "\n",
    "***\n",
    "\n",
    "Adam A Miller  \n",
    "23 October 2023  \n",
    "version 0.2"
   ]
  },
  {
   "cell_type": "markdown",
   "id": "77536135",
   "metadata": {},
   "source": [
    "Problem sets for PHYS 441/DATA SCI 421 are due 1 week after they are assigned at 11:59 pm. \n",
    "\n",
    "Every student is responsible for submitting their own *individual* solutions. Solutions must be either an executable jupyter notebook or Adobe PDF file submitted via Canvas. You must **show all your work** (if you submit a pdf, be sure the pdf does not cut off text or lines of code). *Submissions that only include answers will have points deducted.*\n",
    "\n",
    "If the problem set calls for an integral, please calculate the integral by hand (in general any problem with integrals will not require the use of mathematica or similar tools)."
   ]
  },
  {
   "cell_type": "markdown",
   "id": "1b99b503",
   "metadata": {},
   "source": [
    "If you wish to \"write mathematics\" in a Jupyter notebook, this can be done using LaTeX formatting.\n",
    "\n",
    "LaTeX is great at typesetting mathematics. Let $X_1, X_2, \\ldots, X_n$ be a sequence of independent and identically distributed random variables with $\\text{E}[X_i] = \\mu$ and $\\text{Var}[X_i] = \\sigma^2 < \\infty$, and let\n",
    "\n",
    "$$S_n = \\frac{X_1 + X_2 + \\cdots + X_n}{n}\n",
    "      = \\frac{1}{n}\\sum_{i}^{n} X_i$$\n",
    "      \n",
    "denote their mean. Then as $n$ approaches infinity, the random variables $\\sqrt{n}(S_n - \\mu)$ converge in distribution to a normal $\\mathcal{N}(0, \\sigma^2)$.\n",
    "\n",
    "You can find a [summary of all the LaTeX math symbols](https://www.overleaf.com/learn/latex/List_of_Greek_letters_and_math_symbols) from Overleaf. "
   ]
  },
  {
   "cell_type": "markdown",
   "id": "30ac13b0-d903-4f52-b3fe-da3b0505625e",
   "metadata": {},
   "source": [
    "## New note\n",
    "\n",
    "**If you submit a jupyter notebook as a pdf MAKE SURE the pdf shows all the text/code within the cells. Lines of code that are very long do not automatically \"wrap\" when exporting to pdf**"
   ]
  },
  {
   "cell_type": "markdown",
   "id": "7c33e13d",
   "metadata": {},
   "source": [
    "## Problem 1) 20 points\n",
    "\n",
    "Consider a p.d.f. of the form:\n",
    "\n",
    "$$f(x; \\alpha) = \\begin{cases} C (1 - x)^{\\alpha- 1} & \\text{$0 \\leq x \\leq 1$} \\\\\n",
    " 0 & \\text{otherwise} \\end{cases}$$\n",
    " \n",
    "where $C$ is a normalization constant."
   ]
  },
  {
   "cell_type": "markdown",
   "id": "fe104f5d",
   "metadata": {},
   "source": [
    "**Problem 1a**\n",
    "\n",
    "Calculate the value of $C$ by performing an integral.\n",
    "(show your work, do not just enter this into a calculator)"
   ]
  },
  {
   "cell_type": "markdown",
   "id": "a43c88a5",
   "metadata": {},
   "source": [
    "\n",
    "\\begin{align}\n",
    "\\int_{-\\infty}^{\\infty} f(x;\\alpha) dx  &= 1 & \\text{hence} \\\\ \n",
    "\n",
    "\\int_{-\\infty}^{\\infty} f(x;\\alpha) dx  &= \\int_{0}^{1} C(1-x)^{\\alpha-1} dx \\\\ \n",
    "\\end{align}\n",
    "\n",
    "Using integration by substitution, let $u=1-x$, then $du=-dx$ and \n",
    "\n",
    "\\begin{align}\n",
    "\\int_{0}^{1} C(1-x)^{\\alpha-1} dx   &= -C \\int_{1}^{0} u^{\\alpha-1} du \\\\ \n",
    "                                    &= -C \\frac{u^{\\alpha}}{\\alpha} \\Big |_{1}^{0} \\\\ \n",
    "                                    &= -C (0-\\frac{1}{\\alpha}) \\\\ \n",
    "                                    &= \\frac{C}{\\alpha} = 1 & \\text{; hence } && C = \\alpha \n",
    "\\end{align}"
   ]
  },
  {
   "cell_type": "markdown",
   "id": "04fb9dfe",
   "metadata": {},
   "source": [
    "**Problem 1b**\n",
    "\n",
    "Calculate the c.d.f. $F(x; \\alpha)$."
   ]
  },
  {
   "cell_type": "markdown",
   "id": "f70b50a7",
   "metadata": {},
   "source": [
    "Let $u=1-x$ ($x=1-u$) and $du=-dx$, then \n",
    "\n",
    "\\begin{align}\n",
    "F(x)    &= \\int_{-\\infty}^{x} f(x) dx \\\\\n",
    "        &= \\int_{-\\infty}^{x} \\alpha (1-x)^{\\alpha-1} dx \\\\ \n",
    "        &= \\alpha \\int_{0}^{x} (1-x)^{\\alpha-1} dx \\\\  \n",
    "        &= -\\alpha \\int_{1}^{u} u^{\\alpha-1} du \\\\ \n",
    "        &= -\\alpha \\frac{u^{\\alpha}}{\\alpha} \\Big |_{1}^{u} \\\\ \n",
    "        &= -\\alpha (\\frac{u^{\\alpha}}{\\alpha} - \\frac{1}{\\alpha}) \\\\ \n",
    "        &= 1 - u^{\\alpha} = 1 - (1-x)^{\\alpha}\n",
    "\\end{align} "
   ]
  },
  {
   "cell_type": "markdown",
   "id": "d8d598b5",
   "metadata": {},
   "source": [
    "**Problem 1c**\n",
    "\n",
    "Assuming that $\\alpha = 3$ plot the c.d.f."
   ]
  },
  {
   "cell_type": "code",
   "execution_count": 5,
   "id": "387a2a2b",
   "metadata": {},
   "outputs": [
    {
     "data": {
      "image/png": "[encoded data removed]",
      "text/plain": [
       "<Figure size 640x480 with 1 Axes>"
      ]
     },
     "metadata": {},
     "output_type": "display_data"
    }
   ],
   "source": [
    "def get_cdf(datapoints=500):\n",
    "    x_axis = np.linspace(0, 1, datapoints)\n",
    "    y_axis = list(map(lambda x: 1-(1-x)**3, x_axis)) \n",
    "\n",
    "    return x_axis, y_axis\n",
    "\n",
    "fig, ax = plt.subplots() \n",
    "x, y = get_cdf() \n",
    "ax.set_title('F(x) = $1 - (1-x)^3$')\n",
    "\n",
    "plt.plot(x, y)\n",
    "plt.show() "
   ]
  },
  {
   "cell_type": "markdown",
   "id": "cf4f2c33",
   "metadata": {},
   "source": [
    "**Problem 1d**\n",
    "\n",
    "Write down an expression for $\\hat{\\alpha_\\mathrm{ML}}$, the maximum likelihood estimator of $\\alpha$. \n",
    "\n",
    "In the expression you may assume there have been $N$ observations of the random variable $x$, and you can write the result in terms of a sum that depends on the $x_i$ observations."
   ]
  },
  {
   "cell_type": "markdown",
   "id": "9bd7875f",
   "metadata": {},
   "source": [
    "\\begin{align}\n",
    "L(\\alpha)       &= \\prod_{i=1}^{N} \\alpha(1-x_{i})^{\\alpha-1} \\\\ \n",
    "log L(\\alpha)   &= \\sum_{i=1}^{N} (log(\\alpha)+(\\alpha-1)log(1-x_{i})) \\\\ \n",
    "                &= \\sum_{i=1}^{N} log(\\alpha) + (\\alpha-1) \\sum_{i=1}^{N}log(1-x_{i}) \\\\ \n",
    "                &= N \\cdot log(\\alpha) + (\\alpha-1) \\sum_{i=1}^{N}log(1-x_{i}) \\\\ \\\\ \n",
    "\n",
    "\\frac{\\partial log L(\\alpha)}{\\partial \\alpha}  &= \\frac{N}{\\alpha} +  \\sum_{i=1}^{N}log(1-x_{i}) = 0 \\\\ \n",
    "\\hat{\\alpha_\\mathrm{ML}}    &= - \\frac{N}{\\sum_{i=1}^{N}log(1-x_{i})} \n",
    "\\end{align}"
   ]
  },
  {
   "cell_type": "markdown",
   "id": "8e397935",
   "metadata": {},
   "source": [
    "**Probelm 1e**\n",
    "\n",
    "Draw 100 random samples from this p.d.f. (again with $\\alpha = 3$), and use these samples to calculate the estimator for $\\alpha, \\hat{\\alpha_\\mathrm{ML}}$.\n",
    "\n",
    "Is this estimate reasonable given the known value of $\\alpha$?"
   ]
  },
  {
   "cell_type": "markdown",
   "id": "e08798d3",
   "metadata": {},
   "source": [
    "\\begin{align}\n",
    "F(x)        &= 1-(1-x)^{3}  \\\\ \n",
    "F^{-1}(x)   &= 1-\\sqrt[3]{1-x}\n",
    "\\end{align}"
   ]
  },
  {
   "cell_type": "code",
   "execution_count": 6,
   "id": "1c108791",
   "metadata": {},
   "outputs": [
    {
     "name": "stdout",
     "output_type": "stream",
     "text": [
      "Estimation for 100      samples: 3.3547\n",
      "Estimation for 1000     samples: 2.9417\n",
      "Estimation for 10000    samples: 3.0151\n",
      "Estimation for 100000   samples: 3.0134\n"
     ]
    }
   ],
   "source": [
    "import math \n",
    "import scipy.stats as stats \n",
    " \n",
    "def sample_inverse_CDF(size):\n",
    "    samples_0_to_1 = stats.uniform.rvs(size=size) \n",
    "    return 1 - np.cbrt(1-samples_0_to_1)\n",
    "\n",
    "\n",
    "def estimator(samples):\n",
    "    N = len(samples) \n",
    "    f = lambda x: np.log(1-x) \n",
    "\n",
    "    return -N/sum(f(samples)) \n",
    "\n",
    "for size in [100, 1000, 10000, 100000]: \n",
    "    samples = sample_inverse_CDF(size)\n",
    "    estimation = estimator(samples)\n",
    "\n",
    "    print(f\"Estimation for {size:<8} samples: {estimation:.4f}\")"
   ]
  },
  {
   "cell_type": "markdown",
   "id": "bbef0f49",
   "metadata": {},
   "source": [
    "Seems pretty reasonable to me. \n",
    "\n"
   ]
  },
  {
   "cell_type": "markdown",
   "id": "83bfe1be",
   "metadata": {},
   "source": [
    "## Problem 2) 5 points\n",
    "\n",
    "Consider the following 3 situations: \n",
    "\n",
    "(a) In an experiment with 4 degrees of freedom, you measure $\\chi^2_\\nu = 2.3$  \n",
    "(b) In an experiment with 20 degrees of freedom, you measure $\\chi^2_\\nu = 1.4$  \n",
    "(c) In an experiment with 12345 degrees of freedom, you measure $\\chi^2_\\nu = 1.07$\n",
    "\n",
    "Based on their $P$-values, which of these results would you doubt the most?"
   ]
  },
  {
   "cell_type": "code",
   "execution_count": 7,
   "id": "970e4b0a",
   "metadata": {},
   "outputs": [
    {
     "name": "stdout",
     "output_type": "stream",
     "text": [
      "For (a) the P-value is: 0.6807690541649645\n",
      "For (b) the P-value is: 0.9999999958732985\n",
      "For (c) the P-value is: 1.0\n",
      "\n",
      "Would doubt exp C the most based on the p value\n"
     ]
    }
   ],
   "source": [
    "from scipy.stats import chi2\n",
    "\n",
    "exps = ['a', 'b', 'c']\n",
    "chi_squares = [2.3, 1.4, 1.07] \n",
    "degrees = [4, 20, 12345] \n",
    "\n",
    "for exp, chi_s, drg in zip(exps, chi_squares, degrees):\n",
    "    p_val = chi2.sf(x=chi_s, df=drg) \n",
    "    print(f'For ({exp}) the P-value is: {p_val}')\n",
    "\n",
    "print()\n",
    "print(\"Would doubt exp C the most based on the p value\") "
   ]
  },
  {
   "cell_type": "markdown",
   "id": "57cfd381",
   "metadata": {},
   "source": [
    "## Problem 3) 15 points\n",
    "\n",
    "Consider the following observations drawn from a Gaussian distribution (you may also execute the cell below to load these data into python).\n",
    "\n",
    "[21.34991068,17.03365346,22.3624337,17.14595484,26.22432382,24.54083346,18.02468367,18.48944392,16.48320874,21.09502049,25.62458937,22.71152072,23.49396549,19.13371957,26.9913811,23.28373906,26.03903969,19.17151187,24.18697064,23.05591374,12.40077576,27.95187729,29.73031488,18.33199626,27.82481229,20.93731875,29.51205706,27.43489328,16.8524255,25.10598605,23.64102009,25.21573825,15.82490327,18.35316616,31.25506351,22.48764312,23.95983729,19.71251619,23.29590823,21.6477857,22.85205999,20.10330439,26.69973219,28.41423071,20.43268376,19.8345963,33.67697139,22.85933253,32.58355139,22.7753049,17.22132842,22.56410502,24.10491912,18.67347961,18.84397928,20.39535811,24.21694659,31.09858686,15.88979508,26.93012214,19.67642504,23.03519847,27.04876197,18.71470615,21.23794713,31.05055806,26.66288228,17.3226034,20.30355193,20.33909743,23.92711395,17.88477367,20.1667467,23.0543670,21.39130572,25.06653193,28.53144452,18.57090768,24.79045727,18.52871602,23.96836545,21.75832276,16.30265442,21.82535507,21.68394026,23.76684835,19.22956309,17.20462486,27.99510289,19.01816796,20.05512557,23.72473121,20.32826806,25.16924535,19.58547389,33.14463493,18.09812041,22.38601579,13.28536472,20.12205255]"
   ]
  },
  {
   "cell_type": "code",
   "execution_count": 8,
   "id": "f3523d17",
   "metadata": {},
   "outputs": [],
   "source": [
    "obs = np.array([21.34991068,17.03365346,22.3624337,17.14595484,26.22432382,24.54083346,18.02468367,18.48944392,16.48320874,21.09502049,25.62458937,22.71152072,23.49396549,19.13371957,26.9913811,23.28373906,26.03903969,19.17151187,24.18697064,23.05591374,12.40077576,27.95187729,29.73031488,18.33199626,27.82481229,20.93731875,29.51205706,27.43489328,16.8524255,25.10598605,23.64102009,25.21573825,15.82490327,18.35316616,31.25506351,22.48764312,23.95983729,19.71251619,23.29590823,21.6477857,22.85205999,20.10330439,26.69973219,28.41423071,20.43268376,19.8345963,33.67697139,22.85933253,32.58355139,22.7753049,17.22132842,22.56410502,24.10491912,18.67347961,18.84397928,20.39535811,24.21694659,31.09858686,15.88979508,26.93012214,19.67642504,23.03519847,27.04876197,18.71470615,21.23794713,31.05055806,26.66288228,17.3226034,20.30355193,20.33909743,23.92711395,17.88477367,20.1667467,23.0543670,21.39130572,25.06653193,28.53144452,18.57090768,24.79045727,18.52871602,23.96836545,21.75832276,16.30265442,21.82535507,21.68394026,23.76684835,19.22956309,17.20462486,27.99510289,19.01816796,20.05512557,23.72473121,20.32826806,25.16924535,19.58547389,33.14463493,18.09812041,22.38601579,13.28536472,20.12205255])"
   ]
  },
  {
   "cell_type": "markdown",
   "id": "a4254582",
   "metadata": {},
   "source": [
    "**Problem 3a**\n",
    "\n",
    "What is the value of the maximum likelihood estimator for the mean of the Gaussian?"
   ]
  },
  {
   "cell_type": "markdown",
   "id": "50665e09",
   "metadata": {},
   "source": [
    "\\begin{align}\n",
    "\n",
    "\\hat{\\mu} = \\frac{1}{n} \\sum_{i=1}^{n} x_{i}\n",
    "\n",
    "\\end{align}"
   ]
  },
  {
   "cell_type": "code",
   "execution_count": 9,
   "id": "68adc5ef",
   "metadata": {
    "slideshow": {
     "slide_type": "fragment"
    }
   },
   "outputs": [
    {
     "name": "stdout",
     "output_type": "stream",
     "text": [
      "mu = 22.4404\n"
     ]
    }
   ],
   "source": [
    "mu = np.sum(obs)/len(obs) \n",
    "print(f\"mu = {mu:.4f}\") "
   ]
  },
  {
   "cell_type": "markdown",
   "id": "f295f466",
   "metadata": {},
   "source": [
    "**Problem 3b**\n",
    "\n",
    "Plot the log likelihood for the observations as a function of $\\mu$ the mean of the Gaussian distribution over a reasonable range of $\\mu$.\n",
    "\n",
    "*Hint* – for the plot you can assume the variance for the p.d.f. is 1."
   ]
  },
  {
   "cell_type": "markdown",
   "id": "8fa17169",
   "metadata": {},
   "source": [
    "\\begin{align}\n",
    "logL(\\mu, 1)    &= \\sum_{i=1}^{n} log f(x_{i}; \\mu, 1) \\\\\n",
    "                &= \\sum_{i=1}^{n} (log\\frac{1}{\\sqrt{2\\pi}} + \\frac{1}{2}log\\frac{1}{1^2} - \\frac{(x_{i} - \\mu)^2}{2 \\cdot 1^2}) \\\\ \n",
    "                &= \\sum_{i=1}^{n} (log\\frac{1}{\\sqrt{2\\pi}} + \\frac{(x_{i} - \\mu)^2}{2}) \\\\ \n",
    "\\end{align}"
   ]
  },
  {
   "cell_type": "code",
   "execution_count": 31,
   "id": "89ee8b32",
   "metadata": {},
   "outputs": [
    {
     "data": {
      "image/png": "[encoded data removed]",
      "text/plain": [
       "<Figure size 640x480 with 1 Axes>"
      ]
     },
     "metadata": {},
     "output_type": "display_data"
    }
   ],
   "source": [
    "def gaussian_log_likelihood(mean, std, samples):\n",
    "    f = lambda x: (np.log(1/np.sqrt(2*np.pi)) + 0.5*np.log(1/np.square(std)) - np.square(x-mean))/(2*np.square(std))\n",
    "    return np.sum(f(samples)) \n",
    "\n",
    "x_lim_left      = 22.2\n",
    "x_lim_right     = 22.7\n",
    "y_lim_top       = -986\n",
    "y_lim_bottom    = -988\n",
    "\n",
    "x = np.linspace(x_lim_left, x_lim_right, 10000) \n",
    "y = [gaussian_log_likelihood(mean, std=1, samples=obs) for mean in x] \n",
    "\n",
    "fig, ax = plt.subplots() \n",
    "ax.set_title('Maximum Likelihood w.r.t $\\mu$')\n",
    "ax.set_xlabel('$\\mu$') \n",
    "ax.set_ylabel('Likelihood')\n",
    "\n",
    "plt.plot(x, y)\n",
    "plt.vlines(x=mu, ymin=y_lim_bottom, ymax=y_lim_top, colors='green')\n",
    "plt.show() "
   ]
  },
  {
   "cell_type": "markdown",
   "id": "4a5bb6bf",
   "metadata": {},
   "source": [
    "**Problem 3c**\n",
    "\n",
    "Does your plot agree with your estimate from **3a**?\n",
    "\n",
    "Show your work"
   ]
  },
  {
   "cell_type": "markdown",
   "id": "26d8adc4",
   "metadata": {},
   "source": [
    "The green line in the plot above is the estimation from 3a. The line intersects with the curve at nearly the maximum value, agreeing with the estimation from 3a. \n"
   ]
  },
  {
   "cell_type": "markdown",
   "id": "8373254c",
   "metadata": {},
   "source": [
    "**Problem 3d**\n",
    "\n",
    "Using the graphical method discussed in lecture, what is the  standard deviation for the estimator of the mean, $\\sigma_{\\hat{\\mu}}$?"
   ]
  },
  {
   "cell_type": "code",
   "execution_count": 45,
   "id": "99127f24",
   "metadata": {},
   "outputs": [
    {
     "name": "stdout",
     "output_type": "stream",
     "text": [
      "0.0999791400953498\n",
      "0.09999085690434839\n"
     ]
    },
    {
     "data": {
      "image/png": "[encoded data removed]",
      "text/plain": [
       "<Figure size 640x480 with 1 Axes>"
      ]
     },
     "metadata": {},
     "output_type": "display_data"
    }
   ],
   "source": [
    "L_max = gaussian_log_likelihood(mu, std=1, samples=obs) \n",
    "half_L_max = L_max-0.5\n",
    "\n",
    "def diff_between_L_and_half_L_max(_mu):\n",
    "    diff = abs(gaussian_log_likelihood(_mu, std=1, samples=obs) - half_L_max)\n",
    "    return diff \n",
    "\n",
    "# find the delta mu corresponding to half_L_max of the parabola \n",
    "delta_mu_negative = sorted([_x for _x in x if _x <= mu], key=diff_between_L_and_half_L_max)[0]\n",
    "delta_mu_positive = sorted([_x for _x in x if _x >= mu], key=diff_between_L_and_half_L_max)[0]\n",
    "\n",
    "print(mu - delta_mu_negative)\n",
    "print(delta_mu_positive - mu)\n",
    "\n",
    "fig, ax = plt.subplots() \n",
    "ax.set_title('Maximum Likelihood w.r.t $\\mu$ ')\n",
    "ax.set_xlabel('$\\mu$') \n",
    "ax.set_xlim(left=x_lim_left, right=x_lim_right)\n",
    "ax.set_ylabel('Likelihood')\n",
    "ax.set_ylim(top=y_lim_top, bottom=y_lim_bottom)\n",
    "\n",
    "plt.plot(x, y)\n",
    "plt.hlines(y=L_max,             xmin=x_lim_left,   xmax=x_lim_right-0.1, colors='black', ls='--')\n",
    "plt.hlines(y=half_L_max,        xmin=x_lim_left,   xmax=x_lim_right-0.1, colors='black', ls='--')\n",
    "plt.vlines(x=delta_mu_negative, ymin=y_lim_bottom, ymax=y_lim_top-0.3,   colors='black', ls='--')\n",
    "plt.vlines(x=delta_mu_positive, ymin=y_lim_bottom, ymax=y_lim_top-0.3,   colors='black', ls='--')\n",
    "plt.show()  "
   ]
  },
  {
   "cell_type": "markdown",
   "id": "7737f924",
   "metadata": {},
   "source": [
    "$ \\hat{\\sigma_{\\hat{\\mu}}} \\approx \\delta \\hat{\\mu_{-}} \\approx \\delta \\hat{\\mu_{+}} \\approx 0.0999 $"
   ]
  },
  {
   "cell_type": "markdown",
   "id": "2094bf71",
   "metadata": {},
   "source": [
    "## Problem 4) 20 points\n",
    "\n",
    "You design an experiment to observe a random variable that follows the binomial distribution. For the experiment the probability of success $p$ is unknown. "
   ]
  },
  {
   "cell_type": "markdown",
   "id": "8d349896",
   "metadata": {},
   "source": [
    "**Problem 4a**\n",
    "\n",
    "You conduct 3 different experiments each with 3 trials. The results are:  \n",
    "Experiment 1 – 2 success, 1 failure  \n",
    "Experiment 2 – 3 success, 0 failure  \n",
    "Experiment 3 - 2 success, 1 failure\n",
    "\n",
    "What is the likelihood for these experimental results? Show all your work and write your answer as a function of $p$ (this is a problem that does not require a computer so your solution should show your full derivation). "
   ]
  },
  {
   "cell_type": "markdown",
   "id": "d8fb953e",
   "metadata": {},
   "source": [
    "\n",
    "<!-- \n",
    "L(p)    &= \\prod_{i=1}^{n} f(k_{i}, n, p) \\\\ \n",
    "        &= \\prod_{i=1}^{n} p^{k_{i}}(1-p)^{1-k_{i}} \\\\ \n",
    "        &= p^{\\sum_{i=1}^{n}k_{i}}(1-p)^{\\sum_{i=1}^{n}1-k_{i}} & \\text{where $k_{i}$ is a single trail} &   \\\\ \n",
    "        &= p^k(1-p)^{n-k} \\\\ \n",
    "---> "
   ]
  },
  {
   "cell_type": "markdown",
   "id": "3161f008",
   "metadata": {},
   "source": [
    "The likelihood function of the binomial distribution is: \n",
    "\n",
    "\\begin{align}\n",
    "L(k, n, p)  &= \\binom{n}{k} p^{k} (1-p)^{n-k}   \n",
    "\\end{align} \n",
    "\n",
    "\n",
    "\\begin{align}\n",
    "\n",
    "L_{\\text{exp1}}(p)  &= \\binom{3}{2} p^{2}(1-p)      &= \\frac{3!}{2! \\cdot 1!} \\cdot p^{2}(1-p) = 3 \\cdot p^{2}(1-p) \\\\ \n",
    "L_{\\text{exp2}}(p)  &= \\binom{3}{3} p^{3}           &= \\frac{3!}{3! \\cdot 0!} \\cdot p^{2}(1-p) = p^{2}(1-p) \\\\ \n",
    "L_{\\text{exp3}}(p)  &= \\binom{3}{2} p^{2}(1-p)      &= \\frac{3!}{2! \\cdot 1!} \\cdot p^{2}(1-p) = 3 \\cdot p^{2}(1-p) \\\\ \n",
    "L_{\\text{total}}(p) &= \\binom{9}{7} p^{7}(1-p)^{2}  &= \\frac{9!}{7! \\cdot 2!} \\cdot p^{7}(1-p)^{2} = 36 \\cdot p^{7}(1-p)^{2} \\\\\n",
    "\n",
    "\\end{align}"
   ]
  },
  {
   "cell_type": "markdown",
   "id": "19ac9628",
   "metadata": {},
   "source": [
    "**Problem 4b**\n",
    "\n",
    "What is the maximum likelihood estimate for the probability of success $\\hat{p}$?"
   ]
  },
  {
   "cell_type": "markdown",
   "id": "4cec4aaf",
   "metadata": {},
   "source": [
    "\\begin{align}\n",
    "f(k, n, p)      &= \\binom{n}{k} p^k (1-p)^{n-k} \\\\ \n",
    "logf(k, n, p)   &= log(\\binom{n}{k}) + log(p^k) + log((1-p)^{n-k}) \\\\ \n",
    "                &= log(\\binom{n}{k}) + klog(p) + (n-k)log(1-p) \\\\ \n",
    "\\frac{\\partial logf(k, n, p)}{\\partial p} &= \\frac{log(\\binom{n}{k}) + klog(p) + (n-k)log(1-p)}{\\partial p} \\\\ \n",
    "                &= \\frac{k}{p} - \\frac{(n-k)}{1-p} = 0 \\\\ \n",
    "\\frac{k}{p}     &= \\frac{(n-k)}{1-p} \\Rightarrow \\hat{p}=\\frac{k}{n}\n",
    "\\end{align}\n",
    "\n",
    "Since doing N experiment with M trails is the same is doing 1 experiment with N*M trails ([reference](https://stats.stackexchange.com/questions/557483/maximum-likelihood-estimator-for-binomial-model)), $\\hat{p} = \\frac{k}{n} = \\frac{7}{9} \\approx 0.778$\n",
    "\n"
   ]
  }
 ],
 "metadata": {
  "kernelspec": {
   "display_name": "Python 3 (ipykernel)",
   "language": "python",
   "name": "python3"
  },
  "language_info": {
   "codemirror_mode": {
    "name": "ipython",
    "version": 3
   },
   "file_extension": ".py",
   "mimetype": "text/x-python",
   "name": "python",
   "nbconvert_exporter": "python",
   "pygments_lexer": "ipython3",
   "version": "3.9.18"
  }
 },
 "nbformat": 4,
 "nbformat_minor": 5
}
