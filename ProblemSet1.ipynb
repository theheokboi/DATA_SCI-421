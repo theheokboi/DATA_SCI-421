{
 "cells": [
  {
   "cell_type": "markdown",
   "id": "b98d167b",
   "metadata": {},
   "source": [
    "# Problem Set 1\n",
    "\n",
    "### PHYS 441\n",
    "\n",
    "***\n",
    "\n",
    "Adam A Miller  \n",
    "25 September 2023  \n",
    "version 0.2"
   ]
  },
  {
   "cell_type": "markdown",
   "id": "d6f385f5",
   "metadata": {},
   "source": [
    "Problem sets for PHYS 441/DATA SCI 421 are due 1 week after they are assigned at 11:59 pm. \n",
    "\n",
    "Every student is responsible for submitting their own *individual* solutions. Solutions must be either an executable jupyter notebook or Adobe PDF file submitted via Canvas. You must **show all your work** (if you submit a pdf, be sure the pdf does not cut off text or lines of code). *Submissions that only include answers will have points deducted.*\n",
    "\n",
    "If the problem set calls for an integral, please calculate the integral by hand (in general any problem with integrals will not require the use of mathematica or similar tools)."
   ]
  },
  {
   "cell_type": "markdown",
   "id": "8732381b",
   "metadata": {},
   "source": [
    "If you wish to \"write mathematics\" in a Jupyter notebook, this can be done using LaTeX formatting.\n",
    "\n",
    "LaTeX is great at typesetting mathematics. Let $X_1, X_2, \\ldots, X_n$ be a sequence of independent and identically distributed random variables with $\\text{E}[X_i] = \\mu$ and $\\text{Var}[X_i] = \\sigma^2 < \\infty$, and let\n",
    "\n",
    "$$S_n = \\frac{X_1 + X_2 + \\cdots + X_n}{n}\n",
    "      = \\frac{1}{n}\\sum_{i}^{n} X_i\\$$\n",
    "      \n",
    "denote their mean. Then as $n$ approaches infinity, the random variables $\\sqrt{n}(S_n - \\mu)$ converge in distribution to a normal $\\mathcal{N}(0, \\sigma^2)$.\n",
    "\n",
    "You can find a [summary of all the LaTeX math symbols](https://www.overleaf.com/learn/latex/List_of_Greek_letters_and_math_symbols) from Overleaf. "
   ]
  },
  {
   "cell_type": "markdown",
   "id": "42ab051a",
   "metadata": {},
   "source": [
    "## Probability"
   ]
  },
  {
   "cell_type": "markdown",
   "id": "9d3e7c2a",
   "metadata": {},
   "source": [
    "## Problem 1) 5 points\n",
    "\n",
    "Suppose $A$ and $B$ are two subsets in a sample space, and $A$ is a proper subset of $B$: $A \\subset B$. The expression $B − A$ stands for the collection of elemental events that are in $B$ but not in $A$. We can write $B = A \\cup (B − A)$. Show that $P(B) \\ge P(A)$."
   ]
  },
  {
   "cell_type": "markdown",
   "id": "127edef9",
   "metadata": {},
   "source": [
    "Since $(B-A)$ denotes the set of elemental events that are in $B$ but not in $A$, $(B-A)$ and $A$ are disjoint sets, $i.e. $ $(B-A) \\cap A = \\emptyset$ and $P((B-A) \\cap A)=0$. We also know that $B = A \\cup (B-A)$, hence:\n",
    "\n",
    "\\begin{align}\n",
    "P(B) &= P(A) + P(B-A) - P(A\\cap(B-A)) \\\\ \n",
    "     &= P(A) + P(B-A) - 0 \\\\ \n",
    "     &= P(A) + P(B-A) \\\\ \n",
    "\\end{align}\n",
    "\n",
    "A probability $P$ is always greater than zero $i.e. $ $P \\ge 0$, and so $P(B-A) \\ge 0$, hence $P(B) \\ge P(A)$. \n",
    "\n",
    "\n",
    "\n",
    "\n"
   ]
  },
  {
   "cell_type": "markdown",
   "id": "50cb49a6",
   "metadata": {},
   "source": [
    "## Problem 2) 8 points\n",
    "\n",
    "You purchase a new dishwasher that has a lifetime $T$, defined as the amount of time in years the product works before it breaks down:\n",
    "\n",
    "$$P(T \\ge t) = \\exp\\left( -t/4 \\right), \\;\\mathrm{for\\;all\\;t\\ge0}.$$\n",
    "\n",
    "The dishwasher works without issue for 2 years, what is the probability that it breaks down in the third year?"
   ]
  },
  {
   "cell_type": "markdown",
   "id": "6958c0d4",
   "metadata": {},
   "source": [
    "The question could be rephrased as *What is the probability of the dishwasher breaking down in the third year $P(A)$ given it has no issues for the first 2 years $P(B)$*, hence be denoted as $P(A|B)$.\n",
    "\n",
    "\\begin{align}\n",
    "P(A|B)  &= \\frac{P(A \\cap B)}{P(B)}\n",
    "\\end{align}\n",
    "\n",
    "The probability of the dishwasher breaking down in the third year ($P(A)$) can be denoted as $P(2 \\leq T \\leq 3)$ and calculated as \n",
    "\n",
    "\\begin{align}\n",
    "P(A)    &= P(2 \\leq T \\leq 3) \\\\ \n",
    "        &= P(T \\geq 2) -  P(T \\geq 3) \\\\ \n",
    "        &= e^{-\\frac{2}{4}} - e^{-\\frac{3}{4}}\n",
    "\\end{align}\n",
    "\n",
    "and the probability of the dishwasher having no issues for the first two years ($P(B)$) be denoted as $P(T \\ge 2)$ and calculated as \n",
    "\n",
    "\\begin{align}\n",
    "P(B)    &= P(T \\geq 2) \\\\ \n",
    "        &=  e^{-\\frac{2}{4}}\n",
    "\\end{align}\n",
    "\n",
    "Finally, since $A$ is a proper subset of $B$ ($B$: $A \\subset B$), $P(A \\cap B) = P(A)$, hence \n",
    "\n",
    "\\begin{align}\n",
    "P(A|B)  &= \\frac{P(A \\cap B)}{P(B)} \\\\ \n",
    "        &= \\frac{P(A)}{P(B)} \\\\ \n",
    "        &= \\frac{e^{-\\frac{2}{4}} - e^{-\\frac{3}{4}}}{e^{-\\frac{2}{4}}} \\approx 0.2212\n",
    "\\end{align}"
   ]
  },
  {
   "cell_type": "markdown",
   "id": "10f70b62",
   "metadata": {},
   "source": [
    "## Problem 3) 7 points\n",
    "\n",
    "The probabilities that a red rose bush blossoms next week is 0.8, and that a pink rose bush blossoms next week is 0.9. Assume that these two probabilities are independent."
   ]
  },
  {
   "cell_type": "markdown",
   "id": "28fa4d92",
   "metadata": {},
   "source": [
    "**Problem 3a**\n",
    "\n",
    "Find the probability that next week both rose bushes bloom."
   ]
  },
  {
   "cell_type": "markdown",
   "id": "4470f1fb",
   "metadata": {},
   "source": [
    "Let $P(A)$ and $P(B)$ denote the probability of a red and pink rose bush blossoming respectively, then $P(A) = 0.8$ and $P(B) = 0.9$. \n",
    "\n",
    "Since $P(A)$ and $P(B)$ are independent, $P(A \\cap B) = P(A) \\times P(B)$. \n",
    "\n",
    "The probability that both rose bushes bloom next week is \n",
    "\n",
    "\\begin{align}\n",
    "P(A \\cap B) &= P(A) \\times P(B) \\\\ \n",
    "            &= 0.8 \\times 0.9   \\\\ \n",
    "            &= 0.72\n",
    "\\end{align}\n",
    "\n"
   ]
  },
  {
   "cell_type": "markdown",
   "id": "2229263a",
   "metadata": {},
   "source": [
    "**Problem 3b**\n",
    "\n",
    "Find the probability that neither rose bush blooms."
   ]
  },
  {
   "cell_type": "markdown",
   "id": "fae61363",
   "metadata": {},
   "source": [
    "The probability that neither rose bush blooms can be caculated as such:\n",
    "\n",
    "\\begin{align}\n",
    "P(\\overline{A} \\cap \\overline{B})   &= 1 - P(A \\cup B) \\\\\n",
    "                                    &= 1 - (P(A) + P(B) - P(A \\cap B)) \\\\ \n",
    "                                    &= 1 - (0.8 + 0.9 - 0.72) \\\\ \n",
    "                                    &= 1 - 0.98 \\\\ \n",
    "                                    &= 0.02\n",
    "\\end{align}\n",
    "\n",
    "\n"
   ]
  },
  {
   "cell_type": "markdown",
   "id": "a1515ba8",
   "metadata": {},
   "source": [
    "**Problem 3c**\n",
    "\n",
    "Find the probability that at least one rose bush blooms."
   ]
  },
  {
   "cell_type": "markdown",
   "id": "06676e35-ec01-4914-92fb-d0453164d613",
   "metadata": {},
   "source": [
    "The probability that at least one rose bush blooms is \n",
    "\n",
    "\\begin{align}\n",
    "P(A \\cup B )    &= P(A) + P(B) - P(A \\cap B) \\\\\n",
    "                & = 0.8 + 0.9 - 0.72 \\\\ \n",
    "                &= 0.98\n",
    "\\end{align}\n"
   ]
  },
  {
   "cell_type": "markdown",
   "id": "c22bfbce",
   "metadata": {},
   "source": [
    "## Problem 4) 15 points\n",
    "\n",
    "For three events $A$, $B$, and $C$ we know that\n",
    "\n",
    "  -  $A$ and $C$ are independent\n",
    "  -  $B$ and $C$ are independent\n",
    "  -  $A$ and $B$ are disjoint ($A \\cap B = \\emptyset$)\n",
    "  -  $P(A \\cup C) = 2/3, P(B \\cup C) = 3/4, P(A \\cup B \\cup C) = 11/12$\n",
    "  \n",
    "Find $P(A)$, $P(B)$, and $P(C)$."
   ]
  },
  {
   "cell_type": "markdown",
   "id": "3b056e9b",
   "metadata": {},
   "source": [
    "We know that $P(A \\cap C) = P(A) \\times P(C)$, $P(B \\cap C) = P(B) \\times P(C)$, and $P(A \\cap B) = 0$,\n",
    "\n",
    "and   $P(A \\cup C) = P(A) + P(C) - P(A \\cap C)$, $P(A \\cap C) = P(A) + P(C) - P(A \\cup C)$\n",
    "\n",
    "and   $P(B \\cup C) = P(B) + P(C) - P(B \\cap C)$, $P(B \\cap C) = P(B) + P(C) - P(B \\cup C)$ \n",
    "\n",
    "and   $P(A \\cap B \\cap C) = 0$. \n",
    "\n",
    "So \n",
    "\n",
    "\\begin{align}\n",
    "P(A \\cup B \\cup C)  &= P(A) + P(B) + P(C) - P(A \\cap B) - P(A \\cap C) - P(B \\cap C) + P(A \\cap B \\cap C) \\\\\n",
    "                    &= P(A) + P(B) + P(C) - 0 - (P(A) + P(C) - P(A \\cup C)) - (P(B) + P(C) - P(B \\cup C)) + 0 \\\\ \n",
    "                    &= P(A \\cup C) + P(B \\cup C) - P(C)\n",
    "\\end{align}\n",
    "\n",
    "$\\Rightarrow$\n",
    "\n",
    "\\begin{align}\n",
    "P(C)    &= P(A \\cup C) + P(B \\cup C) - P(A \\cup B \\cup C)  \\\\ \n",
    "        &= \\frac{2}{3} + \\frac{3}{4} - \\frac{11}{12} \\\\ \n",
    "        &= \\frac{8+9-11}{12} \\\\ \n",
    "        &= \\frac{6}{12} = \\frac{1}{2}\n",
    "\n",
    "\\end{align}\n",
    "\n",
    "Hence, \n",
    "\n",
    "\\begin{align}\n",
    "P(A \\cup C)     &= P(A) + P(C) - P(A \\cap C) \\\\ \n",
    "                &= P(A) + P(C) - P(A) \\times P(C) \\\\ \n",
    "                &= P(A) + \\frac{1}{2} - \\frac{1}{2} \\cdot P(A) = \\frac{2}{3}\n",
    "\\end{align}\n",
    "\n",
    "$\\Rightarrow$\n",
    "\n",
    "\\begin{align}\n",
    "\\frac{1}{2} \\cdot P(A)  &= \\frac{2}{3} - \\frac{1}{2} \\\\ \n",
    "                        &= \\frac{4-3}{6} = \\frac{1}{6}\n",
    "\\end{align}\n",
    "\n",
    "$\\Rightarrow$\n",
    "\n",
    "\\begin{align}\n",
    "P(A) = \\frac{1}{3}\n",
    "\\end{align}\n",
    "\n",
    "and \n",
    "\n",
    "\\begin{align}\n",
    "P(B \\cup C)     &= P(B) + P(C) - P(B \\cap C) \\\\ \n",
    "                &= P(B) + P(C) - P(B) \\times P(C) \\\\ \n",
    "                &= P(B) + \\frac{1}{2} - \\frac{1}{2} \\cdot P(B) = \\frac{3}{4}\n",
    "\\end{align}\n",
    "\n",
    "$\\Rightarrow$\n",
    "\n",
    "\\begin{align}\n",
    "\\frac{1}{2} \\cdot P(B)  &= \\frac{3}{4} - \\frac{1}{2} \\\\ \n",
    "                        &= \\frac{3-2}{4} = \\frac{1}{4}\n",
    "\\end{align}\n",
    "\n",
    "$\\Rightarrow$\n",
    "\n",
    "\\begin{align}\n",
    "P(B) = \\frac{1}{2}\n",
    "\\end{align}\n",
    "\n",
    "\n",
    "\n",
    "\n"
   ]
  },
  {
   "cell_type": "markdown",
   "id": "e34688e9",
   "metadata": {},
   "source": [
    "## Problem 5) 10 points\n",
    "\n",
    "You have an overly eager professor that is always raving about their two pet kangaroos. One day during lecture the professor shamelessly shows a picture of one kangaroo and states that it is a red kangaroo. \n",
    "\n",
    "What is the probability the other pet is also a red kangaroo?\n",
    "\n",
    "For this problem make the (incorrect) assumption that there are only two types of kangaroo – red and grey, and that the kangaroos are born with a 50% probability of being red and a 50% probability of being grey. Finally, while your professor may be overeager, they are not a liar – the kangaroo in the picture is red. "
   ]
  },
  {
   "cell_type": "markdown",
   "id": "5ada04e8",
   "metadata": {},
   "source": [
    "There are four elementary events in the sample space $S = \\{RR, RG, GR, GG\\}$ with each of the events having probability 0.25. The question can be understood as *Given that the first kangaroo is red, what is the probability the second kangaroo is also red?* Let $P(A)$ denote the probability that the first kangaroo is red and $P(B)$ denote the probability both kangaroos are red, we want to calculate \n",
    "\n",
    "\\begin{align}\n",
    "P(B|A)\n",
    "\\end{align}\n",
    "\n",
    "then \n",
    "\n",
    "$\\Rightarrow$\n",
    "\n",
    "\\begin{align}\n",
    "P(B|A)  &= \\frac{P(B \\cap A)}{P(A)} \\\\ \n",
    "        &= \\frac{P(\\{RR\\}) \\cap P(\\{RR, RG\\})}{P(\\{RR, RG\\})} \\\\ \n",
    "        &= \\frac{0.25}{0.5} = 0.5 \n",
    "\n",
    "\\end{align}\n",
    "\n",
    "Another way of thinking about the problem is: *The color of kangaroos are indepedent of each other, hence the first kangaroo being red does not the probability of the second kangaroo being red ($0.5$ probability being red)*."
   ]
  },
  {
   "cell_type": "markdown",
   "id": "a8bec381",
   "metadata": {},
   "source": [
    "## Problem 6) 5 points\n",
    "\n",
    "A fair die is tossed twice, and the tosses are independent. What is the probability obtaining six at least once?"
   ]
  },
  {
   "cell_type": "markdown",
   "id": "ecb92efe",
   "metadata": {},
   "source": [
    "Let $P(A)$ denote the probability of obtaining six at least once of tossing a fair die twice, and $P(B)$ denote the probability of not obtaining six for both tosses, then \n",
    "\n",
    "\\begin{align}\n",
    "P(A)    &= 1 - P(B) \\\\ \n",
    "        &= 1 - \\frac{5}{6} \\cdot \\frac{5}{6} \\\\\n",
    "        &= 1 - \\frac{25}{36} \\\\ \n",
    "        &= \\frac{11}{36}\n",
    "\\end{align}"
   ]
  },
  {
   "cell_type": "markdown",
   "id": "244cd2ff",
   "metadata": {},
   "source": [
    "## Problem 7) 10 points\n",
    "\n",
    "An event $A$ can be completely ‘covered’ by two other events $A1$ and $A2$. This means that all elemental events in $A$ are also in either $A1$ or $A2$. The union of $A1$ and $A2$ can be larger than $A$, however.\n",
    "Assume $A1$ and $A2$ are mutually exclusive: $A1 \\cap A2 = \\emptyset$. Prove that $P(A) = P(A|A1)P(A1) + P(A|A2)P(A2)$."
   ]
  },
  {
   "cell_type": "markdown",
   "id": "a280daf3",
   "metadata": {},
   "source": [
    "Since all elemental events in $P(A)$ are in either $P(A1)$ or $P(A2)$, we can write $P(A)$ as \n",
    "\n",
    "\\begin{align}\n",
    "P(A)    &= P(A \\cap A1) + P(A \\cap A2) - P(A \\cap A1 \\cap A2)\n",
    "\\end{align}\n",
    "\n",
    "We also know that $P(A1 \\cap A2) = 0$, so \n",
    "\n",
    "\\begin{align}\n",
    "P(A)    &= P(A \\cap A1) + P(A \\cap A2) - P(A \\cap A1 \\cap A2) \\\\ \n",
    "        &= P(A \\cap A1) + P(A \\cap A2) - 0 \\\\ \n",
    "        &= P(A \\cap A1) + P(A \\cap A2)\n",
    "\\end{align}\n",
    "\n",
    "By the equation of conditional probability $P(A|B) = \\frac{P(A \\cap B)}{P(B)}$, so $P(A \\cap B) = P(A|B) \\cdot P(B)$.\n",
    "\n",
    "So we can rewrite $P(A)$ as \n",
    "\n",
    "\\begin{align}\n",
    "P(A)    &= P(A \\cap A1) + P(A \\cap A2) \\\\\n",
    "        &= P(A|A1) \\cdot P(A1) + P(A|A2) \\cdot P(A2)\n",
    "\\end{align}"
   ]
  },
  {
   "cell_type": "markdown",
   "id": "3aa53274-8e6d-4027-8ef8-6458fdc5f03e",
   "metadata": {},
   "source": [
    "## Problem 8) 10 points\n",
    "\n",
    "A beam of particles consists of a fraction $10^{-4}$ electrons and the rest photons. The particles pass through a double-layered detector which gives signals in either zero, one, or both layers. The probabilities of these outcomes for electrons ($e$) and photons ($\\gamma$) are\n",
    "\n",
    "$$\n",
    "\\begin{align}\n",
    "P(0|e) = 0.001 && {\\mathrm{and}} && P(0|\\gamma) = 0.99899 \\\\\n",
    "P(1|e) = 0.010 && {~} && P(1|\\gamma) = 0.00100 \\\\\n",
    "P(2|e) = 0.989 && {~} && P(2|\\gamma) = 0.00001\n",
    "\\end{align}\n",
    "$$   \n",
    "\n"
   ]
  },
  {
   "cell_type": "markdown",
   "id": "21286d20-bc7e-447f-b455-0182aa93591b",
   "metadata": {},
   "source": [
    "**Problem 8a**\n",
    "\n",
    "What is the probability for a particle detected in only one layer to be a photon?"
   ]
  },
  {
   "cell_type": "markdown",
   "id": "947751e9-269e-4699-a825-bc85bfc6b673",
   "metadata": {},
   "source": [
    "The probability for a particle to be detected in only one layer to be a photon can be denoted as\n",
    "\n",
    "\\begin{align}\n",
    "P(\\gamma|1)\n",
    "\\end{align}\n",
    "\n",
    "By Bayes theorm, \n",
    "\n",
    "\\begin{align}\n",
    "P(\\gamma|1) &= \\frac{P(1|\\gamma) \\cdot P(\\gamma)}{P(1)}\n",
    "\\end{align}\n",
    "\n",
    "Using the equation derived in Problem 7, we can calculate $P(1)$ as \n",
    "\n",
    "\\begin{align}\n",
    "P(1)    &= P(1|e)P(e) + P(1|\\gamma)P(\\gamma) \\\\ \n",
    "        &= 0.01 \\cdot 0.0001 + 0.001 \\cdot (1-10^{-4}) \\\\ \n",
    "        &= 10^{-6} + 9.999 \\cdot 10^{-4} \\approx 0.0010009\n",
    "\\end{align}\n",
    "\n",
    "Hence $P(\\gamma|1)$ can be calculated as \n",
    "\n",
    "\\begin{align}\n",
    "P(\\gamma|1)     &= \\frac{P(1|\\gamma) \\cdot P(\\gamma)}{P(1)} \\\\ \n",
    "                &= \\frac{10^{-3} \\cdot (1-10^{-4})}{0.0010009} \\approx 0.999\n",
    "\n",
    "\\end{align}"
   ]
  },
  {
   "cell_type": "markdown",
   "id": "b18fe08c-076c-41a6-8525-c2a1bb9def79",
   "metadata": {},
   "source": [
    "**Problem 8b**\n",
    "\n",
    "What is the probability for a particle detected in both layers to be an electron?"
   ]
  },
  {
   "cell_type": "markdown",
   "id": "6386133f-a70e-4d33-8a5f-a3b117d5dd2d",
   "metadata": {},
   "source": [
    "The probability for a particle to be detected in both layers to be an electron can be denoted as\n",
    "\n",
    "\\begin{align}\n",
    "P(e|2)\n",
    "\\end{align}\n",
    "\n",
    "By Bayes theorm, \n",
    "\n",
    "\\begin{align}\n",
    "P(e|2) &= \\frac{P(2|e) \\cdot P(e)}{P(2)}\n",
    "\\end{align}\n",
    "\n",
    "Using the equation derived in Problem 7, we can calculate $P(2)$ as \n",
    "\n",
    "\\begin{align}\n",
    "P(2)    &= P(2|e)P(e) + P(2|\\gamma)P(\\gamma) \\\\ \n",
    "        &= 0.989 \\cdot 10^{-4} + 10^{-5} \\cdot (1-10^{-4}) \\\\ \n",
    "        &= 9.89 \\cdot 10^{-5} + 9.999 \\cdot 10^{-6} \\approx 0.000108899\n",
    "\\end{align}\n",
    "\n",
    "Hence $P(e|2)$ can be calculated as \n",
    "\n",
    "\\begin{align}\n",
    "P(e|2) &= \\frac{P(2|e) \\cdot P(e)}{P(2)} \\\\ \n",
    "        &= \\frac{0.989 \\cdot (10^{-4})}{0.000108899} \\approx 0.9082\n",
    "\\end{align}"
   ]
  }
 ],
 "metadata": {
  "kernelspec": {
   "display_name": "Python 3 (ipykernel)",
   "language": "python",
   "name": "python3"
  },
  "language_info": {
   "codemirror_mode": {
    "name": "ipython",
    "version": 3
   },
   "file_extension": ".py",
   "mimetype": "text/x-python",
   "name": "python",
   "nbconvert_exporter": "python",
   "pygments_lexer": "ipython3",
   "version": "3.9.18"
  }
 },
 "nbformat": 4,
 "nbformat_minor": 5
}
